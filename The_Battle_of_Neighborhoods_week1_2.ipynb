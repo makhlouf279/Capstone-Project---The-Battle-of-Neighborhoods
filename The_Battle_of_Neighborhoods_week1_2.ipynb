{
  "nbformat": 4,
  "nbformat_minor": 0,
  "metadata": {
    "colab": {
      "name": "The Battle of Neighborhoods week1-2.ipynb",
      "provenance": [],
      "collapsed_sections": [],
      "authorship_tag": "ABX9TyNOQnwW/6mviu916kTvgEY8",
      "include_colab_link": true
    },
    "kernelspec": {
      "name": "python3",
      "display_name": "Python 3"
    }
  },
  "cells": [
    {
      "cell_type": "markdown",
      "metadata": {
        "id": "view-in-github",
        "colab_type": "text"
      },
      "source": [
        "<a href=\"https://colab.research.google.com/github/makhlouf279/Capstone-Project---The-Battle-of-Neighborhoods/blob/main/The_Battle_of_Neighborhoods_week1_2.ipynb\" target=\"_parent\"><img src=\"https://colab.research.google.com/assets/colab-badge.svg\" alt=\"Open In Colab\"/></a>"
      ]
    },
    {
      "cell_type": "markdown",
      "metadata": {
        "id": "EB3FDNHqrFJs"
      },
      "source": [
        "# **IMB Capstone Project: The Battle of Neighborhoods**\n",
        "OCTOBER, 24/2020\n",
        "\n",
        "\n",
        "\n"
      ]
    },
    {
      "cell_type": "markdown",
      "metadata": {
        "id": "q0MA6ZQKe56i"
      },
      "source": [
        "**Data Section**\n",
        "\n",
        "1. For the above objective, we will be using open-data acquired from the Dubai\n",
        "Statistics Center. The data is available in the form of an Excel sheet, which\n",
        "will require a considerable amount of refinement. The data source is\n",
        "accessible at below location:\n",
        "\n",
        "Data Source: https://www.dsc.gov.ae/Report/DSC_SYB_2019_01%20_%2002.xlsx\n",
        "\n",
        "- Description: This data set contains the required information. And we will use\n",
        "this data set to explore various neighborhoods of Dubai city.\n",
        "- https://en.wikipedia.org/wiki/Dubai\n",
        "\n",
        "**2. Coffee shop in neighborhoods of Dubai city.**\n",
        "\n",
        "- Data Source: Foursquare API\n",
        "- Description: By using this API we will get all the venues in the neighborhoods.\n",
        "We can filter these venues to get only Pizza Places. \n",
        "\n",
        "**Approach**\n",
        "\n",
        "- Collect the Dubai city data\n",
        "from https://www.dsc.gov.ae/Report/DSC_SYB_2019_01%20_%2002.xlsx.\n",
        "- Using Foursquare API we will get all venues for each neighborhood.\n",
        "- Filter out all venues which are coffee shop.\n",
        "- Analyzing using Clustering (Specially K-Means):\n",
        "1. Find the best value of K\n",
        "2. Visualize the neighborhood with a number of coffee shop.\n",
        "- Compare the Neighborhoods to Find the Best Place for Starting up a coffee\n",
        "shop \n",
        "\n",
        "\n",
        "\n",
        "\n"
      ]
    },
    {
      "cell_type": "code",
      "metadata": {
        "colab": {
          "base_uri": "https://localhost:8080/"
        },
        "id": "qo6tC8gR6Bd3",
        "outputId": "f23d3379-2ae6-49e3-f2f7-6006bf4b7922"
      },
      "source": [
        "import requests # library to handle requests\n",
        "import pandas as pd # library for data analsysis\n",
        "import numpy as np # library to handle data in a vectorized manner\n",
        "import random # library for random number generation\n",
        "from bs4 import BeautifulSoup # library for web scrapping \n",
        "import geocoder\n",
        "from geopy.geocoders import Nominatim\n",
        "from geopy.geocoders import Nominatim # module to convert an address into latitude and longitude values\n",
        "# libraries for displaying images\n",
        "from IPython.display import Image \n",
        "from IPython.core.display import HTML \n",
        "# tranforming json file into a pandas dataframe library\n",
        "from pandas.io.json import json_normalize\n",
        "import folium # plotting library\n",
        "from sklearn.cluster import KMeans\n",
        "import matplotlib.cm as cm\n",
        "import matplotlib.colors as colors\n",
        "import json\n",
        "print('Folium installed')\n",
        "print('Libraries imported.')"
      ],
      "execution_count": 182,
      "outputs": [
        {
          "output_type": "stream",
          "text": [
            "Folium installed\n",
            "Libraries imported.\n"
          ],
          "name": "stdout"
        }
      ]
    },
    {
      "cell_type": "code",
      "metadata": {
        "colab": {
          "base_uri": "https://localhost:8080/"
        },
        "id": "7cN6SWnw6DeZ",
        "outputId": "62953ed8-fdc9-4fff-935d-55cee4c7f2f7"
      },
      "source": [
        "pip install  geocoder"
      ],
      "execution_count": 183,
      "outputs": [
        {
          "output_type": "stream",
          "text": [
            "Requirement already satisfied: geocoder in /usr/local/lib/python3.6/dist-packages (1.38.1)\n",
            "Requirement already satisfied: click in /usr/local/lib/python3.6/dist-packages (from geocoder) (7.1.2)\n",
            "Requirement already satisfied: future in /usr/local/lib/python3.6/dist-packages (from geocoder) (0.16.0)\n",
            "Requirement already satisfied: ratelim in /usr/local/lib/python3.6/dist-packages (from geocoder) (0.1.6)\n",
            "Requirement already satisfied: requests in /usr/local/lib/python3.6/dist-packages (from geocoder) (2.23.0)\n",
            "Requirement already satisfied: six in /usr/local/lib/python3.6/dist-packages (from geocoder) (1.15.0)\n",
            "Requirement already satisfied: decorator in /usr/local/lib/python3.6/dist-packages (from ratelim->geocoder) (4.4.2)\n",
            "Requirement already satisfied: idna<3,>=2.5 in /usr/local/lib/python3.6/dist-packages (from requests->geocoder) (2.10)\n",
            "Requirement already satisfied: chardet<4,>=3.0.2 in /usr/local/lib/python3.6/dist-packages (from requests->geocoder) (3.0.4)\n",
            "Requirement already satisfied: urllib3!=1.25.0,!=1.25.1,<1.26,>=1.21.1 in /usr/local/lib/python3.6/dist-packages (from requests->geocoder) (1.24.3)\n",
            "Requirement already satisfied: certifi>=2017.4.17 in /usr/local/lib/python3.6/dist-packages (from requests->geocoder) (2020.11.8)\n"
          ],
          "name": "stdout"
        }
      ]
    },
    {
      "cell_type": "markdown",
      "metadata": {
        "id": "ErBNoVqnglm1"
      },
      "source": [
        "**Step 1.1: Extract data**"
      ]
    },
    {
      "cell_type": "code",
      "metadata": {
        "colab": {
          "base_uri": "https://localhost:8080/"
        },
        "id": "Q653dGrjWuXI",
        "outputId": "3a58dca6-6636-4e65-f0cf-e91e8ae4bb22"
      },
      "source": [
        "# reading excel report from the source.\n",
        "\n",
        "data_url = 'https://www.dsc.gov.ae/Report/DSC_SYB_2019_01%20_%2002.xlsx'\n",
        "df_dubai = pd.read_excel(data_url)\n",
        "\n",
        "# determining structure\n",
        "df_dubai.shape"
      ],
      "execution_count": 185,
      "outputs": [
        {
          "output_type": "execute_result",
          "data": {
            "text/plain": [
              "(247, 5)"
            ]
          },
          "metadata": {
            "tags": []
          },
          "execution_count": 185
        }
      ]
    },
    {
      "cell_type": "markdown",
      "metadata": {
        "id": "nncuHshogsjJ"
      },
      "source": [
        "**Step 1.1: Data Wrangling:**\n",
        "\n",
        "Because the report has a considerable amount of header and footer data, we will be removing it."
      ]
    },
    {
      "cell_type": "code",
      "metadata": {
        "colab": {
          "base_uri": "https://localhost:8080/",
          "height": 348
        },
        "id": "aWDqyOJ5Wyxg",
        "outputId": "87223c6a-5a7d-4240-9dd1-f00cfb87af6f"
      },
      "source": [
        "df_dubai.head(10)"
      ],
      "execution_count": 186,
      "outputs": [
        {
          "output_type": "execute_result",
          "data": {
            "text/html": [
              "<div>\n",
              "<style scoped>\n",
              "    .dataframe tbody tr th:only-of-type {\n",
              "        vertical-align: middle;\n",
              "    }\n",
              "\n",
              "    .dataframe tbody tr th {\n",
              "        vertical-align: top;\n",
              "    }\n",
              "\n",
              "    .dataframe thead th {\n",
              "        text-align: right;\n",
              "    }\n",
              "</style>\n",
              "<table border=\"1\" class=\"dataframe\">\n",
              "  <thead>\n",
              "    <tr style=\"text-align: right;\">\n",
              "      <th></th>\n",
              "      <th>Unnamed: 0</th>\n",
              "      <th>Unnamed: 1</th>\n",
              "      <th>Unnamed: 2</th>\n",
              "      <th>Unnamed: 3</th>\n",
              "      <th>Unnamed: 4</th>\n",
              "    </tr>\n",
              "  </thead>\n",
              "  <tbody>\n",
              "    <tr>\n",
              "      <th>0</th>\n",
              "      <td>NaN</td>\n",
              "      <td>NaN</td>\n",
              "      <td>NaN</td>\n",
              "      <td>NaN</td>\n",
              "      <td>NaN</td>\n",
              "    </tr>\n",
              "    <tr>\n",
              "      <th>1</th>\n",
              "      <td>عدد السكان المقدر حسب القطاع والمنطقة - إمارة ...</td>\n",
              "      <td>NaN</td>\n",
              "      <td>NaN</td>\n",
              "      <td>NaN</td>\n",
              "      <td>NaN</td>\n",
              "    </tr>\n",
              "    <tr>\n",
              "      <th>2</th>\n",
              "      <td>Number of Estimated Population by Sector and C...</td>\n",
              "      <td>NaN</td>\n",
              "      <td>NaN</td>\n",
              "      <td>NaN</td>\n",
              "      <td>NaN</td>\n",
              "    </tr>\n",
              "    <tr>\n",
              "      <th>3</th>\n",
              "      <td>` (2019)</td>\n",
              "      <td>NaN</td>\n",
              "      <td>NaN</td>\n",
              "      <td>NaN</td>\n",
              "      <td>NaN</td>\n",
              "    </tr>\n",
              "    <tr>\n",
              "      <th>4</th>\n",
              "      <td>جـــدول ( 02 - 01 ) Table</td>\n",
              "      <td>NaN</td>\n",
              "      <td>NaN</td>\n",
              "      <td>NaN</td>\n",
              "      <td>NaN</td>\n",
              "    </tr>\n",
              "    <tr>\n",
              "      <th>5</th>\n",
              "      <td>رقم \\nالمنطقة</td>\n",
              "      <td>القطاع والمنطقة</td>\n",
              "      <td>مجموع السكان\\nTotal population</td>\n",
              "      <td>Sector &amp; Community</td>\n",
              "      <td>Community Code</td>\n",
              "    </tr>\n",
              "    <tr>\n",
              "      <th>6</th>\n",
              "      <td>NaN</td>\n",
              "      <td>NaN</td>\n",
              "      <td>NaN</td>\n",
              "      <td>NaN</td>\n",
              "      <td>NaN</td>\n",
              "    </tr>\n",
              "    <tr>\n",
              "      <th>7</th>\n",
              "      <td>101</td>\n",
              "      <td>نخلة ديرة</td>\n",
              "      <td>2</td>\n",
              "      <td>NAKHLAT DEIRA</td>\n",
              "      <td>101</td>\n",
              "    </tr>\n",
              "    <tr>\n",
              "      <th>8</th>\n",
              "      <td>111</td>\n",
              "      <td>الكورنيش</td>\n",
              "      <td>1735</td>\n",
              "      <td>AL CORNICHE</td>\n",
              "      <td>111</td>\n",
              "    </tr>\n",
              "    <tr>\n",
              "      <th>9</th>\n",
              "      <td>112</td>\n",
              "      <td>الرأس</td>\n",
              "      <td>7460</td>\n",
              "      <td>AL RASS</td>\n",
              "      <td>112</td>\n",
              "    </tr>\n",
              "  </tbody>\n",
              "</table>\n",
              "</div>"
            ],
            "text/plain": [
              "                                          Unnamed: 0  ...      Unnamed: 4\n",
              "0                                                NaN  ...             NaN\n",
              "1  عدد السكان المقدر حسب القطاع والمنطقة - إمارة ...  ...             NaN\n",
              "2  Number of Estimated Population by Sector and C...  ...             NaN\n",
              "3                                           ` (2019)  ...             NaN\n",
              "4                          جـــدول ( 02 - 01 ) Table  ...             NaN\n",
              "5                                     رقم \\nالمنطقة   ...  Community Code\n",
              "6                                                NaN  ...             NaN\n",
              "7                                                101  ...             101\n",
              "8                                                111  ...             111\n",
              "9                                                112  ...             112\n",
              "\n",
              "[10 rows x 5 columns]"
            ]
          },
          "metadata": {
            "tags": []
          },
          "execution_count": 186
        }
      ]
    },
    {
      "cell_type": "code",
      "metadata": {
        "colab": {
          "base_uri": "https://localhost:8080/",
          "height": 198
        },
        "id": "v_qVzRE_W28h",
        "outputId": "cc4f951f-0157-471e-c5e9-1059c6be580f"
      },
      "source": [
        "# removing header information\n",
        "\n",
        "df_dubai = df_dubai.iloc[7:]\n",
        "df_dubai.head()"
      ],
      "execution_count": 187,
      "outputs": [
        {
          "output_type": "execute_result",
          "data": {
            "text/html": [
              "<div>\n",
              "<style scoped>\n",
              "    .dataframe tbody tr th:only-of-type {\n",
              "        vertical-align: middle;\n",
              "    }\n",
              "\n",
              "    .dataframe tbody tr th {\n",
              "        vertical-align: top;\n",
              "    }\n",
              "\n",
              "    .dataframe thead th {\n",
              "        text-align: right;\n",
              "    }\n",
              "</style>\n",
              "<table border=\"1\" class=\"dataframe\">\n",
              "  <thead>\n",
              "    <tr style=\"text-align: right;\">\n",
              "      <th></th>\n",
              "      <th>Unnamed: 0</th>\n",
              "      <th>Unnamed: 1</th>\n",
              "      <th>Unnamed: 2</th>\n",
              "      <th>Unnamed: 3</th>\n",
              "      <th>Unnamed: 4</th>\n",
              "    </tr>\n",
              "  </thead>\n",
              "  <tbody>\n",
              "    <tr>\n",
              "      <th>7</th>\n",
              "      <td>101</td>\n",
              "      <td>نخلة ديرة</td>\n",
              "      <td>2</td>\n",
              "      <td>NAKHLAT DEIRA</td>\n",
              "      <td>101</td>\n",
              "    </tr>\n",
              "    <tr>\n",
              "      <th>8</th>\n",
              "      <td>111</td>\n",
              "      <td>الكورنيش</td>\n",
              "      <td>1735</td>\n",
              "      <td>AL CORNICHE</td>\n",
              "      <td>111</td>\n",
              "    </tr>\n",
              "    <tr>\n",
              "      <th>9</th>\n",
              "      <td>112</td>\n",
              "      <td>الرأس</td>\n",
              "      <td>7460</td>\n",
              "      <td>AL RASS</td>\n",
              "      <td>112</td>\n",
              "    </tr>\n",
              "    <tr>\n",
              "      <th>10</th>\n",
              "      <td>113</td>\n",
              "      <td>الضغاية</td>\n",
              "      <td>15899</td>\n",
              "      <td>AL DHAGAYA</td>\n",
              "      <td>113</td>\n",
              "    </tr>\n",
              "    <tr>\n",
              "      <th>11</th>\n",
              "      <td>114</td>\n",
              "      <td>البطين</td>\n",
              "      <td>2841</td>\n",
              "      <td>AL BUTEEN</td>\n",
              "      <td>114</td>\n",
              "    </tr>\n",
              "  </tbody>\n",
              "</table>\n",
              "</div>"
            ],
            "text/plain": [
              "   Unnamed: 0 Unnamed: 1 Unnamed: 2     Unnamed: 3 Unnamed: 4\n",
              "7         101  نخلة ديرة          2  NAKHLAT DEIRA        101\n",
              "8         111   الكورنيش       1735    AL CORNICHE        111\n",
              "9         112      الرأس       7460        AL RASS        112\n",
              "10        113    الضغاية      15899     AL DHAGAYA        113\n",
              "11        114     البطين       2841      AL BUTEEN        114"
            ]
          },
          "metadata": {
            "tags": []
          },
          "execution_count": 187
        }
      ]
    },
    {
      "cell_type": "code",
      "metadata": {
        "colab": {
          "base_uri": "https://localhost:8080/",
          "height": 198
        },
        "id": "YmjWGCNuW79x",
        "outputId": "2c82a739-df61-45fb-b0a6-b2d91b267078"
      },
      "source": [
        "# removing footer from the report\n",
        "\n",
        "df_dubai = df_dubai[:-6]\n",
        "df_dubai.tail()"
      ],
      "execution_count": 188,
      "outputs": [
        {
          "output_type": "execute_result",
          "data": {
            "text/html": [
              "<div>\n",
              "<style scoped>\n",
              "    .dataframe tbody tr th:only-of-type {\n",
              "        vertical-align: middle;\n",
              "    }\n",
              "\n",
              "    .dataframe tbody tr th {\n",
              "        vertical-align: top;\n",
              "    }\n",
              "\n",
              "    .dataframe thead th {\n",
              "        text-align: right;\n",
              "    }\n",
              "</style>\n",
              "<table border=\"1\" class=\"dataframe\">\n",
              "  <thead>\n",
              "    <tr style=\"text-align: right;\">\n",
              "      <th></th>\n",
              "      <th>Unnamed: 0</th>\n",
              "      <th>Unnamed: 1</th>\n",
              "      <th>Unnamed: 2</th>\n",
              "      <th>Unnamed: 3</th>\n",
              "      <th>Unnamed: 4</th>\n",
              "    </tr>\n",
              "  </thead>\n",
              "  <tbody>\n",
              "    <tr>\n",
              "      <th>236</th>\n",
              "      <td>978</td>\n",
              "      <td>سيح شعيله</td>\n",
              "      <td>3</td>\n",
              "      <td>SAIH SHUA'ALAH</td>\n",
              "      <td>978</td>\n",
              "    </tr>\n",
              "    <tr>\n",
              "      <th>237</th>\n",
              "      <td>981</td>\n",
              "      <td>مقطره</td>\n",
              "      <td>804</td>\n",
              "      <td>MUGATRAH</td>\n",
              "      <td>981</td>\n",
              "    </tr>\n",
              "    <tr>\n",
              "      <th>238</th>\n",
              "      <td>987</td>\n",
              "      <td>الليان 1</td>\n",
              "      <td>10</td>\n",
              "      <td>AL LAYAN 1</td>\n",
              "      <td>987</td>\n",
              "    </tr>\n",
              "    <tr>\n",
              "      <th>239</th>\n",
              "      <td>988</td>\n",
              "      <td>الليان 2</td>\n",
              "      <td>0</td>\n",
              "      <td>AL LAYAN 2</td>\n",
              "      <td>988</td>\n",
              "    </tr>\n",
              "    <tr>\n",
              "      <th>240</th>\n",
              "      <td>991</td>\n",
              "      <td>حفير</td>\n",
              "      <td>0</td>\n",
              "      <td>HEFAIR</td>\n",
              "      <td>991</td>\n",
              "    </tr>\n",
              "  </tbody>\n",
              "</table>\n",
              "</div>"
            ],
            "text/plain": [
              "    Unnamed: 0 Unnamed: 1 Unnamed: 2      Unnamed: 3 Unnamed: 4\n",
              "236        978  سيح شعيله          3  SAIH SHUA'ALAH        978\n",
              "237        981      مقطره        804        MUGATRAH        981\n",
              "238        987   الليان 1         10      AL LAYAN 1        987\n",
              "239        988   الليان 2          0      AL LAYAN 2        988\n",
              "240        991       حفير          0          HEFAIR        991"
            ]
          },
          "metadata": {
            "tags": []
          },
          "execution_count": 188
        }
      ]
    },
    {
      "cell_type": "markdown",
      "metadata": {
        "id": "l-XPPJRMhbf5"
      },
      "source": [
        "The report also contains additional columns which we do not require as they represent the same information in Arabic."
      ]
    },
    {
      "cell_type": "code",
      "metadata": {
        "id": "wwmWMhGyXABr"
      },
      "source": [
        "df_dubai = df_dubai[['Unnamed: 2', 'Unnamed: 3']]"
      ],
      "execution_count": 189,
      "outputs": []
    },
    {
      "cell_type": "markdown",
      "metadata": {
        "id": "JWuMzjpIhgsF"
      },
      "source": [
        "Renaming column headers"
      ]
    },
    {
      "cell_type": "code",
      "metadata": {
        "id": "xe6QYYm_XDFJ"
      },
      "source": [
        "df_dubai.rename(columns = {'Unnamed: 2':'population', 'Unnamed: 3':'community'}, inplace = True)"
      ],
      "execution_count": 190,
      "outputs": []
    },
    {
      "cell_type": "markdown",
      "metadata": {
        "id": "MAZBzywhhlQR"
      },
      "source": [
        "**Step 1.3: Data Wrangling Continues:**\n",
        "\n",
        "If you look at the report, the communities are split in Sectors. These sectors are in the report as splitter rows, which we need to remove."
      ]
    },
    {
      "cell_type": "code",
      "metadata": {
        "colab": {
          "base_uri": "https://localhost:8080/"
        },
        "id": "mZchbvDqXHrR",
        "outputId": "aee7bf86-0771-44d8-e598-ff2aa071589a"
      },
      "source": [
        "# Get the indexs of the rows which have text like 'Sector' in community column\n",
        "\n",
        "sector_index = df_dubai[df_dubai['community'].isin(['Sector 1', 'Sector 2', 'Sector 3', 'Sector 4', 'Sector 5', 'Sector 6', 'Sector 7', 'Sector 8'])].index\n",
        "\n",
        "# droping the rows based on found indeces\n",
        "df_dubai.drop(sector_index, inplace = True)\n",
        "\n",
        "df_dubai.shape"
      ],
      "execution_count": 192,
      "outputs": [
        {
          "output_type": "execute_result",
          "data": {
            "text/plain": [
              "(226, 2)"
            ]
          },
          "metadata": {
            "tags": []
          },
          "execution_count": 192
        }
      ]
    },
    {
      "cell_type": "markdown",
      "metadata": {
        "id": "67Ko1K13hyaD"
      },
      "source": [
        "Lets change the order of the columns in our dataframe"
      ]
    },
    {
      "cell_type": "code",
      "metadata": {
        "colab": {
          "base_uri": "https://localhost:8080/",
          "height": 198
        },
        "id": "sFBr_ue2XJDb",
        "outputId": "f94426ce-d349-417c-c2f8-9831d33be4f6"
      },
      "source": [
        "df_dubai = df_dubai[['community', 'population']]\n",
        "df_dubai.head()"
      ],
      "execution_count": 193,
      "outputs": [
        {
          "output_type": "execute_result",
          "data": {
            "text/html": [
              "<div>\n",
              "<style scoped>\n",
              "    .dataframe tbody tr th:only-of-type {\n",
              "        vertical-align: middle;\n",
              "    }\n",
              "\n",
              "    .dataframe tbody tr th {\n",
              "        vertical-align: top;\n",
              "    }\n",
              "\n",
              "    .dataframe thead th {\n",
              "        text-align: right;\n",
              "    }\n",
              "</style>\n",
              "<table border=\"1\" class=\"dataframe\">\n",
              "  <thead>\n",
              "    <tr style=\"text-align: right;\">\n",
              "      <th></th>\n",
              "      <th>community</th>\n",
              "      <th>population</th>\n",
              "    </tr>\n",
              "  </thead>\n",
              "  <tbody>\n",
              "    <tr>\n",
              "      <th>7</th>\n",
              "      <td>NAKHLAT DEIRA</td>\n",
              "      <td>2</td>\n",
              "    </tr>\n",
              "    <tr>\n",
              "      <th>8</th>\n",
              "      <td>AL CORNICHE</td>\n",
              "      <td>1735</td>\n",
              "    </tr>\n",
              "    <tr>\n",
              "      <th>9</th>\n",
              "      <td>AL RASS</td>\n",
              "      <td>7460</td>\n",
              "    </tr>\n",
              "    <tr>\n",
              "      <th>10</th>\n",
              "      <td>AL DHAGAYA</td>\n",
              "      <td>15899</td>\n",
              "    </tr>\n",
              "    <tr>\n",
              "      <th>11</th>\n",
              "      <td>AL BUTEEN</td>\n",
              "      <td>2841</td>\n",
              "    </tr>\n",
              "  </tbody>\n",
              "</table>\n",
              "</div>"
            ],
            "text/plain": [
              "        community population\n",
              "7   NAKHLAT DEIRA          2\n",
              "8     AL CORNICHE       1735\n",
              "9         AL RASS       7460\n",
              "10     AL DHAGAYA      15899\n",
              "11      AL BUTEEN       2841"
            ]
          },
          "metadata": {
            "tags": []
          },
          "execution_count": 193
        }
      ]
    },
    {
      "cell_type": "markdown",
      "metadata": {
        "id": "Ocl0Rytlh467"
      },
      "source": [
        "Lets sort the dataframe by population (descending)"
      ]
    },
    {
      "cell_type": "code",
      "metadata": {
        "colab": {
          "base_uri": "https://localhost:8080/",
          "height": 348
        },
        "id": "4qEip4gnXMRh",
        "outputId": "7beb1c92-f93d-4c89-ef2c-91bbf9037d66"
      },
      "source": [
        "df_dubai.sort_values(by = ['population'], inplace = True, ascending = False)\n",
        "df_dubai.head(10)"
      ],
      "execution_count": 194,
      "outputs": [
        {
          "output_type": "execute_result",
          "data": {
            "text/html": [
              "<div>\n",
              "<style scoped>\n",
              "    .dataframe tbody tr th:only-of-type {\n",
              "        vertical-align: middle;\n",
              "    }\n",
              "\n",
              "    .dataframe tbody tr th {\n",
              "        vertical-align: top;\n",
              "    }\n",
              "\n",
              "    .dataframe thead th {\n",
              "        text-align: right;\n",
              "    }\n",
              "</style>\n",
              "<table border=\"1\" class=\"dataframe\">\n",
              "  <thead>\n",
              "    <tr style=\"text-align: right;\">\n",
              "      <th></th>\n",
              "      <th>community</th>\n",
              "      <th>population</th>\n",
              "    </tr>\n",
              "  </thead>\n",
              "  <tbody>\n",
              "    <tr>\n",
              "      <th>56</th>\n",
              "      <td>MUHAISANAH SECOND</td>\n",
              "      <td>196316</td>\n",
              "    </tr>\n",
              "    <tr>\n",
              "      <th>107</th>\n",
              "      <td>AL GOZE IND. SECOND</td>\n",
              "      <td>159978</td>\n",
              "    </tr>\n",
              "    <tr>\n",
              "      <th>153</th>\n",
              "      <td>JABAL ALI INDUSTRIAL FIRST</td>\n",
              "      <td>128975</td>\n",
              "    </tr>\n",
              "    <tr>\n",
              "      <th>163</th>\n",
              "      <td>WARSAN FIRST</td>\n",
              "      <td>106072</td>\n",
              "    </tr>\n",
              "    <tr>\n",
              "      <th>23</th>\n",
              "      <td>HOR AL ANZ</td>\n",
              "      <td>83187</td>\n",
              "    </tr>\n",
              "    <tr>\n",
              "      <th>147</th>\n",
              "      <td>JABAL ALI FIRST</td>\n",
              "      <td>75287</td>\n",
              "    </tr>\n",
              "    <tr>\n",
              "      <th>77</th>\n",
              "      <td>AL KARAMA</td>\n",
              "      <td>75066</td>\n",
              "    </tr>\n",
              "    <tr>\n",
              "      <th>152</th>\n",
              "      <td>DUBAI INVESTMENT PARK1</td>\n",
              "      <td>69956</td>\n",
              "    </tr>\n",
              "    <tr>\n",
              "      <th>20</th>\n",
              "      <td>AL MURQABAT</td>\n",
              "      <td>69771</td>\n",
              "    </tr>\n",
              "    <tr>\n",
              "      <th>51</th>\n",
              "      <td>MURDAF</td>\n",
              "      <td>64355</td>\n",
              "    </tr>\n",
              "  </tbody>\n",
              "</table>\n",
              "</div>"
            ],
            "text/plain": [
              "                      community population\n",
              "56           MUHAISANAH SECOND      196316\n",
              "107        AL GOZE IND. SECOND      159978\n",
              "153  JABAL ALI INDUSTRIAL FIRST     128975\n",
              "163                WARSAN FIRST     106072\n",
              "23                   HOR AL ANZ      83187\n",
              "147             JABAL ALI FIRST      75287\n",
              "77                    AL KARAMA      75066\n",
              "152      DUBAI INVESTMENT PARK1      69956\n",
              "20                  AL MURQABAT      69771\n",
              "51                       MURDAF      64355"
            ]
          },
          "metadata": {
            "tags": []
          },
          "execution_count": 194
        }
      ]
    },
    {
      "cell_type": "markdown",
      "metadata": {
        "id": "bB4iqC6eh9GW"
      },
      "source": [
        "\n",
        "We will be extracting coordinates using GeoPy by leveraging Google Maps or some other data source provider. When I was scouting for the data, I noticed that in our report, the area names have a suffix like FIRST, SECOND, THIRD, ETC., While the same areas were marked with number 1, 2, 3 in Google Maps.\n",
        "\n",
        "This means if I have to pass WARSAN FIRST to GeoPy, it won't find the coordinates. To solve this problem, we will replace the suffix with numerical values"
      ]
    },
    {
      "cell_type": "code",
      "metadata": {
        "colab": {
          "base_uri": "https://localhost:8080/",
          "height": 198
        },
        "id": "jjk9ydK7XV9a",
        "outputId": "4a412256-48d9-4b4b-e857-494ebd26cfff"
      },
      "source": [
        "df_dubai.replace('FIRST', '1', regex = True, inplace = True)\n",
        "df_dubai.replace('SECOND', '2', regex = True, inplace = True)\n",
        "df_dubai.replace('THIRD', '3', regex = True, inplace = True)\n",
        "df_dubai.replace('FOURTH', '4', regex = True, inplace = True)\n",
        "df_dubai.replace('FIFTH', '5', regex = True, inplace = True)\n",
        "df_dubai.replace('SIXTH', '6', regex = True, inplace = True)\n",
        "df_dubai.head(5)"
      ],
      "execution_count": 195,
      "outputs": [
        {
          "output_type": "execute_result",
          "data": {
            "text/html": [
              "<div>\n",
              "<style scoped>\n",
              "    .dataframe tbody tr th:only-of-type {\n",
              "        vertical-align: middle;\n",
              "    }\n",
              "\n",
              "    .dataframe tbody tr th {\n",
              "        vertical-align: top;\n",
              "    }\n",
              "\n",
              "    .dataframe thead th {\n",
              "        text-align: right;\n",
              "    }\n",
              "</style>\n",
              "<table border=\"1\" class=\"dataframe\">\n",
              "  <thead>\n",
              "    <tr style=\"text-align: right;\">\n",
              "      <th></th>\n",
              "      <th>community</th>\n",
              "      <th>population</th>\n",
              "    </tr>\n",
              "  </thead>\n",
              "  <tbody>\n",
              "    <tr>\n",
              "      <th>56</th>\n",
              "      <td>MUHAISANAH 2</td>\n",
              "      <td>196316</td>\n",
              "    </tr>\n",
              "    <tr>\n",
              "      <th>107</th>\n",
              "      <td>AL GOZE IND. 2</td>\n",
              "      <td>159978</td>\n",
              "    </tr>\n",
              "    <tr>\n",
              "      <th>153</th>\n",
              "      <td>JABAL ALI INDUSTRIAL 1</td>\n",
              "      <td>128975</td>\n",
              "    </tr>\n",
              "    <tr>\n",
              "      <th>163</th>\n",
              "      <td>WARSAN 1</td>\n",
              "      <td>106072</td>\n",
              "    </tr>\n",
              "    <tr>\n",
              "      <th>23</th>\n",
              "      <td>HOR AL ANZ</td>\n",
              "      <td>83187</td>\n",
              "    </tr>\n",
              "  </tbody>\n",
              "</table>\n",
              "</div>"
            ],
            "text/plain": [
              "                  community  population\n",
              "56            MUHAISANAH 2       196316\n",
              "107         AL GOZE IND. 2       159978\n",
              "153  JABAL ALI INDUSTRIAL 1      128975\n",
              "163                WARSAN 1      106072\n",
              "23               HOR AL ANZ       83187"
            ]
          },
          "metadata": {
            "tags": []
          },
          "execution_count": 195
        }
      ]
    },
    {
      "cell_type": "markdown",
      "metadata": {
        "id": "gYOS0UXyiDzV"
      },
      "source": [
        "\n",
        "Removing industrial areas from out list of communities as we are only intreseted in commercial+residential areas for our Coffee Shop"
      ]
    },
    {
      "cell_type": "code",
      "metadata": {
        "colab": {
          "base_uri": "https://localhost:8080/",
          "height": 198
        },
        "id": "uSfOzH3mXen0",
        "outputId": "339eb486-1942-49c7-b3b4-d879879d3b3b"
      },
      "source": [
        "df_dubai = df_dubai[~df_dubai.community.str.contains('IND.')]\n",
        "df_dubai.head()"
      ],
      "execution_count": 196,
      "outputs": [
        {
          "output_type": "execute_result",
          "data": {
            "text/html": [
              "<div>\n",
              "<style scoped>\n",
              "    .dataframe tbody tr th:only-of-type {\n",
              "        vertical-align: middle;\n",
              "    }\n",
              "\n",
              "    .dataframe tbody tr th {\n",
              "        vertical-align: top;\n",
              "    }\n",
              "\n",
              "    .dataframe thead th {\n",
              "        text-align: right;\n",
              "    }\n",
              "</style>\n",
              "<table border=\"1\" class=\"dataframe\">\n",
              "  <thead>\n",
              "    <tr style=\"text-align: right;\">\n",
              "      <th></th>\n",
              "      <th>community</th>\n",
              "      <th>population</th>\n",
              "    </tr>\n",
              "  </thead>\n",
              "  <tbody>\n",
              "    <tr>\n",
              "      <th>56</th>\n",
              "      <td>MUHAISANAH 2</td>\n",
              "      <td>196316</td>\n",
              "    </tr>\n",
              "    <tr>\n",
              "      <th>163</th>\n",
              "      <td>WARSAN 1</td>\n",
              "      <td>106072</td>\n",
              "    </tr>\n",
              "    <tr>\n",
              "      <th>23</th>\n",
              "      <td>HOR AL ANZ</td>\n",
              "      <td>83187</td>\n",
              "    </tr>\n",
              "    <tr>\n",
              "      <th>147</th>\n",
              "      <td>JABAL ALI 1</td>\n",
              "      <td>75287</td>\n",
              "    </tr>\n",
              "    <tr>\n",
              "      <th>77</th>\n",
              "      <td>AL KARAMA</td>\n",
              "      <td>75066</td>\n",
              "    </tr>\n",
              "  </tbody>\n",
              "</table>\n",
              "</div>"
            ],
            "text/plain": [
              "         community  population\n",
              "56   MUHAISANAH 2       196316\n",
              "163       WARSAN 1      106072\n",
              "23      HOR AL ANZ       83187\n",
              "147    JABAL ALI 1       75287\n",
              "77       AL KARAMA       75066"
            ]
          },
          "metadata": {
            "tags": []
          },
          "execution_count": 196
        }
      ]
    },
    {
      "cell_type": "markdown",
      "metadata": {
        "id": "-qiZ_aZsiLzh"
      },
      "source": [
        "\n",
        "Some of the names of locality in this dataset were not as they are represented in map providers. For example, 'Al Quoz' is named as 'Al Goze.' This can cause inconsistency and may leave us excluding the populated areas from our analysis. Following are the naming corrections which we had to."
      ]
    },
    {
      "cell_type": "code",
      "metadata": {
        "id": "4DmSZienXhkT"
      },
      "source": [
        "df_dubai.replace('JABAL ALI 1', 'JEBEL ALI', regex = True, inplace = True)\n",
        "df_dubai.replace('AL KALIJ AL TEJARI', 'BUSINESS BAY', inplace = True)\n",
        "df_dubai.replace('AL WAHEDA', 'AL WUHEIDA', inplace = True)\n",
        "df_dubai.replace('AL THANYAH 3 (EMIRATE HILLS 2)', 'EMIRATES HILLS 2', inplace = True)\n",
        "df_dubai.replace('NADD HESSA', 'DUBAI SILICON OASIS', inplace = True)\n",
        "df_dubai.replace('AL THANYAH 1 (V. RABIE SAHRA\\'A)', 'TECOM', inplace = True)\n",
        "df_dubai.replace('MENA JABAL ALI', 'JEBEL ALI NORTH FREE ZONE', inplace = True)\n",
        "df_dubai.replace('AL HEBIAH 4', 'DUBAI SPORTS CITY', inplace = True)\n",
        "df_dubai.replace('UM SOUQAIM 2', 'UMM SUQEIM 2', inplace = True)\n",
        "df_dubai.replace('UM SOUQAIM 1', 'UMM SUQUEIM 1', inplace = True)\n",
        "df_dubai.replace('AL HEBIAH 1', 'MOTOR CITY', inplace = True)\n",
        "df_dubai.replace('MURDAF', 'MIRDIF', regex = True, inplace = True)\n",
        "df_dubai.replace('PARK1', 'PARK 1', regex = True, inplace = True)\n",
        "df_dubai.replace('PARK2', 'PARK 2', regex = True, inplace = True)\n",
        "df_dubai.replace('MURQABAT', 'MURAQABAT', regex = True, inplace = True)\n",
        "df_dubai.replace('MARSA DUBAI (AL MINA AL SEYAHI) ', 'MARSA DUBAI', inplace = True)\n",
        "df_dubai.replace('AL BADA', 'AL BADA\\'A', regex = True, inplace = True)\n",
        "df_dubai.replace('SUQ', 'SOUQ', regex = True, inplace = True)\n",
        "df_dubai.replace('AL THANYAH 5 (EMIRATE HILLS 1) ', 'EMIRATES HILLS 1', inplace = True)\n",
        "df_dubai.replace('AL THANYAH 4 (EMIRATE HILLS 3) ', 'EMIRATES HILLS 3', inplace = True)\n",
        "df_dubai.replace('NAD AL HAMAR', 'NADD AL HAMAR', inplace = True)\n",
        "df_dubai.replace('AL SOUQ AL KABEER', 'BUR DUBAI', inplace = True)\n",
        "df_dubai.replace('AL BAESHAA 2', 'AL BARSHA 2', inplace = True)\n",
        "df_dubai.replace('MADINAT DUBAI AL MELAHEYAH (AL MINA)', 'DUBAI MARITIME CITY', inplace = True)\n",
        "df_dubai.replace('AL DHAGAYA', 'AL RAS', inplace = True)\n",
        "df_dubai.replace('GOZE', 'QUOZ', regex = True, inplace = True)\n",
        "df_dubai.replace('AL REGA', 'AL RIGGA', inplace = True)\n",
        "df_dubai.replace('WADI AL SAFA 3', 'LIVING LEGENDS', inplace = True)\n",
        "df_dubai.replace('AL HEBIAH 5', 'REMRAAM', inplace = True)\n",
        "df_dubai.replace('AL SAFFA 1', 'AL SAFA 1', inplace = True)\n",
        "df_dubai.replace('UM SOUQAIM 3', 'UMM SUQEIM 3', inplace = True)\n",
        "df_dubai.replace('REGA AL BUTEEN', 'RIGGAT AL BUTEEN', inplace = True)\n",
        "pd.set_option('display.max_rows', None)\n",
        "df_dubai.replace('MUHAISANAH 4', 'MUHAISNAH 4', inplace = True)\n",
        "df_dubai.replace('OUD AL MUTEEN 1', 'OUD AL MUTEENA 1', inplace = True)\n",
        "df_dubai.replace('WADI AL SAFA 6 (ARABIAN RANCHES)', 'ARABIAN RANCHES', inplace = True)"
      ],
      "execution_count": 197,
      "outputs": []
    },
    {
      "cell_type": "markdown",
      "metadata": {
        "id": "0NHWv1yaiVmC"
      },
      "source": [
        "Now that we have our desired dataframe, we will proceed to Stage 2 of our work.\n",
        "\n",
        "**Stage 2: Coordinates:**\n",
        "\n",
        "In stage 2, we will extract each community's coordinates and append it to our data frame.\n",
        "\n",
        "To minimize the time required to extract such information, we will be obtaining the coordinates of the top 100 communities with the highest population.\n",
        "\n",
        "**Step 2.1: Top 100**"
      ]
    },
    {
      "cell_type": "code",
      "metadata": {
        "id": "90B033YfXmoC"
      },
      "source": [
        "# getting the top 200 communities based on population\n",
        "\n",
        "df_communities = df_dubai.head(200)"
      ],
      "execution_count": 198,
      "outputs": []
    },
    {
      "cell_type": "markdown",
      "metadata": {
        "id": "FHHQwRlziy5g"
      },
      "source": [
        "**Step 2.2: GeoPy**"
      ]
    },
    {
      "cell_type": "code",
      "metadata": {
        "id": "ALiFtbBvXtaT"
      },
      "source": [
        "# defining function to get coordinates based on community name\n",
        "\n",
        "def get_latitude_longitude(community_name):\n",
        "    # initialize your variable to None\n",
        "    lat_lng_coords = None\n",
        "    \n",
        "    # loop until you get the coordinates\n",
        "    #while(location is None):\n",
        "    geolocator = Nominatim(user_agent=\"waqa5_ahm3d_capstone\")\n",
        "    location = geolocator.geocode('{}, Dubai, United Arab Emirates'.format(community_name))\n",
        "    \n",
        "    latitude = location.latitude\n",
        "    longitude = location.longitude\n",
        "    \n",
        "    return latitude, longitude"
      ],
      "execution_count": 199,
      "outputs": []
    },
    {
      "cell_type": "markdown",
      "metadata": {
        "id": "-VQ7Fylsjdty"
      },
      "source": [
        "Now time to loop through Top 100 communities and append their coordinates into dataframe"
      ]
    },
    {
      "cell_type": "code",
      "metadata": {
        "colab": {
          "base_uri": "https://localhost:8080/"
        },
        "id": "MIrFaFEYXxg6",
        "outputId": "23ccc7af-a729-4931-a9e3-1e0731909c01"
      },
      "source": [
        "\n",
        "for i, row in df_communities.head(100).iterrows():\n",
        "    community_name = row['community']\n",
        "    \n",
        "    #Function call\n",
        "    try:\n",
        "        lat, long = get_latitude_longitude(community_name)\n",
        "        \n",
        "        #Appending to dataframe\n",
        "        df_communities.loc[i, 'latitude'] = lat\n",
        "        df_communities.loc[i, 'longitude'] = long\n",
        "    except:\n",
        "        pass"
      ],
      "execution_count": 200,
      "outputs": [
        {
          "output_type": "stream",
          "text": [
            "/usr/local/lib/python3.6/dist-packages/pandas/core/indexing.py:1596: SettingWithCopyWarning: \n",
            "A value is trying to be set on a copy of a slice from a DataFrame.\n",
            "Try using .loc[row_indexer,col_indexer] = value instead\n",
            "\n",
            "See the caveats in the documentation: https://pandas.pydata.org/pandas-docs/stable/user_guide/indexing.html#returning-a-view-versus-a-copy\n",
            "  self.obj[key] = _infer_fill_value(value)\n",
            "/usr/local/lib/python3.6/dist-packages/pandas/core/indexing.py:1763: SettingWithCopyWarning: \n",
            "A value is trying to be set on a copy of a slice from a DataFrame.\n",
            "Try using .loc[row_indexer,col_indexer] = value instead\n",
            "\n",
            "See the caveats in the documentation: https://pandas.pydata.org/pandas-docs/stable/user_guide/indexing.html#returning-a-view-versus-a-copy\n",
            "  isetter(loc, value)\n"
          ],
          "name": "stderr"
        }
      ]
    },
    {
      "cell_type": "code",
      "metadata": {
        "colab": {
          "base_uri": "https://localhost:8080/",
          "height": 439
        },
        "id": "ppU1pnLXYNbq",
        "outputId": "2a9256f8-5578-4006-9f3a-71cd7ee074a5"
      },
      "source": [
        "#Dropping NaN entries from our dataset\n",
        "\n",
        "df_communities.dropna(inplace = True)\n",
        "df_communities.head(10)"
      ],
      "execution_count": 201,
      "outputs": [
        {
          "output_type": "stream",
          "text": [
            "/usr/local/lib/python3.6/dist-packages/ipykernel_launcher.py:3: SettingWithCopyWarning: \n",
            "A value is trying to be set on a copy of a slice from a DataFrame\n",
            "\n",
            "See the caveats in the documentation: https://pandas.pydata.org/pandas-docs/stable/user_guide/indexing.html#returning-a-view-versus-a-copy\n",
            "  This is separate from the ipykernel package so we can avoid doing imports until\n"
          ],
          "name": "stderr"
        },
        {
          "output_type": "execute_result",
          "data": {
            "text/html": [
              "<div>\n",
              "<style scoped>\n",
              "    .dataframe tbody tr th:only-of-type {\n",
              "        vertical-align: middle;\n",
              "    }\n",
              "\n",
              "    .dataframe tbody tr th {\n",
              "        vertical-align: top;\n",
              "    }\n",
              "\n",
              "    .dataframe thead th {\n",
              "        text-align: right;\n",
              "    }\n",
              "</style>\n",
              "<table border=\"1\" class=\"dataframe\">\n",
              "  <thead>\n",
              "    <tr style=\"text-align: right;\">\n",
              "      <th></th>\n",
              "      <th>community</th>\n",
              "      <th>population</th>\n",
              "      <th>latitude</th>\n",
              "      <th>longitude</th>\n",
              "    </tr>\n",
              "  </thead>\n",
              "  <tbody>\n",
              "    <tr>\n",
              "      <th>56</th>\n",
              "      <td>MUHAISANAH 2</td>\n",
              "      <td>196316</td>\n",
              "      <td>25.280555</td>\n",
              "      <td>55.410502</td>\n",
              "    </tr>\n",
              "    <tr>\n",
              "      <th>163</th>\n",
              "      <td>WARSAN 1</td>\n",
              "      <td>106072</td>\n",
              "      <td>25.163154</td>\n",
              "      <td>55.422077</td>\n",
              "    </tr>\n",
              "    <tr>\n",
              "      <th>23</th>\n",
              "      <td>HOR AL ANZ</td>\n",
              "      <td>83187</td>\n",
              "      <td>25.279548</td>\n",
              "      <td>55.341053</td>\n",
              "    </tr>\n",
              "    <tr>\n",
              "      <th>147</th>\n",
              "      <td>JEBEL ALI</td>\n",
              "      <td>75287</td>\n",
              "      <td>25.040996</td>\n",
              "      <td>55.133560</td>\n",
              "    </tr>\n",
              "    <tr>\n",
              "      <th>77</th>\n",
              "      <td>AL KARAMA</td>\n",
              "      <td>75066</td>\n",
              "      <td>25.238448</td>\n",
              "      <td>55.303458</td>\n",
              "    </tr>\n",
              "    <tr>\n",
              "      <th>152</th>\n",
              "      <td>DUBAI INVESTMENT PARK 1</td>\n",
              "      <td>69956</td>\n",
              "      <td>25.010873</td>\n",
              "      <td>55.165855</td>\n",
              "    </tr>\n",
              "    <tr>\n",
              "      <th>20</th>\n",
              "      <td>AL MURAQABAT</td>\n",
              "      <td>69771</td>\n",
              "      <td>25.265104</td>\n",
              "      <td>55.329721</td>\n",
              "    </tr>\n",
              "    <tr>\n",
              "      <th>51</th>\n",
              "      <td>MIRDIF</td>\n",
              "      <td>64355</td>\n",
              "      <td>25.220229</td>\n",
              "      <td>55.423000</td>\n",
              "    </tr>\n",
              "    <tr>\n",
              "      <th>43</th>\n",
              "      <td>AL NAHDA 2</td>\n",
              "      <td>61936</td>\n",
              "      <td>25.290592</td>\n",
              "      <td>55.376731</td>\n",
              "    </tr>\n",
              "    <tr>\n",
              "      <th>121</th>\n",
              "      <td>MARSA DUBAI</td>\n",
              "      <td>61047</td>\n",
              "      <td>25.087754</td>\n",
              "      <td>55.146172</td>\n",
              "    </tr>\n",
              "  </tbody>\n",
              "</table>\n",
              "</div>"
            ],
            "text/plain": [
              "                   community  population   latitude  longitude\n",
              "56             MUHAISANAH 2       196316  25.280555  55.410502\n",
              "163                 WARSAN 1      106072  25.163154  55.422077\n",
              "23                HOR AL ANZ       83187  25.279548  55.341053\n",
              "147                JEBEL ALI       75287  25.040996  55.133560\n",
              "77                 AL KARAMA       75066  25.238448  55.303458\n",
              "152  DUBAI INVESTMENT PARK 1       69956  25.010873  55.165855\n",
              "20              AL MURAQABAT       69771  25.265104  55.329721\n",
              "51                    MIRDIF       64355  25.220229  55.423000\n",
              "43                AL NAHDA 2       61936  25.290592  55.376731\n",
              "121              MARSA DUBAI       61047  25.087754  55.146172"
            ]
          },
          "metadata": {
            "tags": []
          },
          "execution_count": 201
        }
      ]
    },
    {
      "cell_type": "markdown",
      "metadata": {
        "id": "Ot_VNd5vjsoL"
      },
      "source": [
        "\n",
        "As you can see from above, it requires allot of efforts to make your data usable as per your requirement.\n",
        "\n",
        "I will be saving this dataset and will publish this on Kaggle for anyone in future looking for top 100 communities in Dubai along with their population."
      ]
    },
    {
      "cell_type": "code",
      "metadata": {
        "colab": {
          "base_uri": "https://localhost:8080/"
        },
        "id": "hGKIl8TrYTLu",
        "outputId": "d5fdd040-3e42-4b59-8071-8f66a865933c"
      },
      "source": [
        "print('The dataframe has {} communities.'.format(\n",
        "        len(df_communities['community'].unique()),\n",
        "        df_communities.shape[0]\n",
        "    )\n",
        ")\n",
        "\n",
        "#Resetting index\n",
        "\n",
        "df_communities.reset_index(drop=True, inplace=True)"
      ],
      "execution_count": 202,
      "outputs": [
        {
          "output_type": "stream",
          "text": [
            "The dataframe has 89 communities.\n"
          ],
          "name": "stdout"
        }
      ]
    },
    {
      "cell_type": "markdown",
      "metadata": {
        "id": "WDM5ePsJkMOq"
      },
      "source": [
        "\n",
        "**Stage 3: Mapping:**\n",
        "\n",
        "Let's take a look at Dubai and based on our dataset, lets see where all these communities are.\n",
        "\n",
        "For mapping, we will be using Folium."
      ]
    },
    {
      "cell_type": "markdown",
      "metadata": {
        "id": "iuC4szWxkaXa"
      },
      "source": [
        "**Step 3.1: Get Dubai city coordinates**"
      ]
    },
    {
      "cell_type": "code",
      "metadata": {
        "colab": {
          "base_uri": "https://localhost:8080/"
        },
        "id": "W1iljR7HYZRT",
        "outputId": "448418e6-3c47-47eb-bf9d-2351a5ab526b"
      },
      "source": [
        "#Using Nominatim, we will get latitude and longitude for Dubai city\n",
        "\n",
        "dxb_address = 'Dubai, United Arab Emirates'\n",
        "\n",
        "geolocator = Nominatim(user_agent=\"dxb_explorer\")\n",
        "location = geolocator.geocode(dxb_address)\n",
        "latitude = location.latitude\n",
        "longitude = location.longitude\n",
        "\n",
        "print('The geograpical coordinate of Dubai are {}, {}.'.format(latitude, longitude))"
      ],
      "execution_count": 203,
      "outputs": [
        {
          "output_type": "stream",
          "text": [
            "The geograpical coordinate of Dubai are 25.0750095, 55.18876088183319.\n"
          ],
          "name": "stdout"
        }
      ]
    },
    {
      "cell_type": "markdown",
      "metadata": {
        "id": "bv_R8hb4kgk5"
      },
      "source": [
        "**Step 3.2: Mapping Dubai via Folium**\n",
        "\n",
        "With Folium, we will map out Dubai and then place markers for each community we have in our dataframe"
      ]
    },
    {
      "cell_type": "code",
      "metadata": {
        "colab": {
          "base_uri": "https://localhost:8080/",
          "height": 689
        },
        "id": "e4r4UDHUYdZS",
        "outputId": "c2881db3-9abb-48e0-e2d8-2529c562c17f"
      },
      "source": [
        "# create map of Dubai using latitude and longitude values\n",
        "map_dubai = folium.Map(location = [latitude, longitude], zoom_start = 11)\n",
        "\n",
        "# add markers to map\n",
        "for lat, lng, label in zip(df_communities['latitude'], df_communities['longitude'], df_communities['community']):\n",
        "    label = folium.Popup(label, parse_html = True)\n",
        "    folium.CircleMarker(\n",
        "        [lat, lng],\n",
        "        radius = 7,\n",
        "        popup = label,\n",
        "        color = 'red',\n",
        "        fill = True,\n",
        "        fill_color = '#3186cc',\n",
        "        fill_opacity = 0.7,\n",
        "        parse_html = False).add_to(map_dubai)  \n",
        "    \n",
        "map_dubai"
      ],
      "execution_count": 204,
      "outputs": [
        {
          "output_type": "execute_result",
          "data": {
            "text/html": [
              "<div style=\"width:100%;\"><div style=\"position:relative;width:100%;height:0;padding-bottom:60%;\"><span style=\"color:#565656\">Make this Notebook Trusted to load map: File -> Trust Notebook</span><iframe src=\"about:blank\" style=\"position:absolute;width:100%;height:100%;left:0;top:0;border:none !important;\" data-html=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 onload=\"this.contentDocument.open();this.contentDocument.write(atob(this.getAttribute('data-html')));this.contentDocument.close();\" allowfullscreen webkitallowfullscreen mozallowfullscreen></iframe></div></div>"
            ],
            "text/plain": [
              "<folium.folium.Map at 0x7f19ee74eef0>"
            ]
          },
          "metadata": {
            "tags": []
          },
          "execution_count": 204
        }
      ]
    }
  ]
}